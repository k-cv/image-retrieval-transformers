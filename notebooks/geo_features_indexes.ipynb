{
 "cells": [
  {
   "cell_type": "code",
   "execution_count": null,
   "metadata": {},
   "outputs": [],
   "source": []
  },
  {
   "cell_type": "code",
   "execution_count": 1,
   "metadata": {},
   "outputs": [],
   "source": [
    "import torch\n",
    "\n",
    "df = torch.load('/home/kfujii/vitruvion/outputs/2024-12-07/12-39-31/features_paths.pth')"
   ]
  },
  {
   "cell_type": "code",
   "execution_count": 2,
   "metadata": {},
   "outputs": [
    {
     "data": {
      "text/plain": [
       "dict_keys(['features', 'image_paths'])"
      ]
     },
     "execution_count": 2,
     "metadata": {},
     "output_type": "execute_result"
    }
   ],
   "source": [
    "df.keys()"
   ]
  },
  {
   "cell_type": "code",
   "execution_count": 5,
   "metadata": {},
   "outputs": [
    {
     "data": {
      "text/plain": [
       "['01/sthw[ck-ic]_l/sthwck12.jpg',\n",
       " '01/sthw[ck-ic]_l/sthwck16.jpg',\n",
       " '01/sthw[ck-ic]_l/sthwck20.jpg',\n",
       " '01/sthw[ck-ic]_l/sthwck25.jpg',\n",
       " '01/sthw[ck-ic]_l/sthwck30.jpg',\n",
       " '01/sthw[ck-ic]_l/sthwic08.jpg',\n",
       " '01/sthw[ck-ic]_l/sthwic10.jpg',\n",
       " '01/sthw[ck-ic]_l/sthwic12.jpg',\n",
       " '01/sthw[ck-ic]_l/sthwic15.jpg',\n",
       " '01/sthw[ck-ic]_l/sthwic16.jpg',\n",
       " '01/sthw[ck-ic]_l/sthwic20.jpg',\n",
       " '01/sthw[ck-ic]_l/sthwic25.jpg',\n",
       " '01/sthw[ck-ic]_l/sthwic30.jpg',\n",
       " '01/sthw[ck-ic]_l/sthwic40.jpg',\n",
       " '01/sthw[ck-ic]_r/sthwck12.jpg',\n",
       " '01/sthw[ck-ic]_r/sthwck16.jpg',\n",
       " '01/sthw[ck-ic]_r/sthwck20.jpg',\n",
       " '01/sthw[ck-ic]_r/sthwck25.jpg',\n",
       " '01/sthw[ck-ic]_r/sthwck30.jpg',\n",
       " '01/sthw[ck-ic]_r/sthwic08.jpg',\n",
       " '01/sthw[ck-ic]_r/sthwic10.jpg',\n",
       " '01/sthw[ck-ic]_r/sthwic12.jpg',\n",
       " '01/sthw[ck-ic]_r/sthwic15.jpg',\n",
       " '01/sthw[ck-ic]_r/sthwic16.jpg',\n",
       " '01/sthw[ck-ic]_r/sthwic20.jpg',\n",
       " '01/sthw[ck-ic]_r/sthwic25.jpg',\n",
       " '01/sthw[ck-ic]_r/sthwic30.jpg',\n",
       " '01/sthw[ck-ic]_r/sthwic40.jpg']"
      ]
     },
     "execution_count": 5,
     "metadata": {},
     "output_type": "execute_result"
    }
   ],
   "source": [
    "df['image_paths'][:]"
   ]
  },
  {
   "cell_type": "code",
   "execution_count": null,
   "metadata": {},
   "outputs": [],
   "source": []
  }
 ],
 "metadata": {
  "kernelspec": {
   "display_name": "vit",
   "language": "python",
   "name": "python3"
  },
  "language_info": {
   "codemirror_mode": {
    "name": "ipython",
    "version": 3
   },
   "file_extension": ".py",
   "mimetype": "text/x-python",
   "name": "python",
   "nbconvert_exporter": "python",
   "pygments_lexer": "ipython3",
   "version": "3.8.19"
  }
 },
 "nbformat": 4,
 "nbformat_minor": 2
}
